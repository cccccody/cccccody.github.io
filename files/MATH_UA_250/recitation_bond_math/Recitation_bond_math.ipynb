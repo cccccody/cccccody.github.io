{
 "cells": [
  {
   "cell_type": "code",
   "execution_count": 2,
   "metadata": {},
   "outputs": [
    {
     "name": "stdout",
     "output_type": "stream",
     "text": [
      "Python 3.7.6\r\n"
     ]
    }
   ],
   "source": [
    "!python -V"
   ]
  },
  {
   "cell_type": "code",
   "execution_count": 3,
   "metadata": {},
   "outputs": [],
   "source": [
    "import numpy as np \n",
    "import pandas as pd \n",
    "import matplotlib.pyplot as plt "
   ]
  },
  {
   "cell_type": "markdown",
   "metadata": {},
   "source": [
    "# Compounding"
   ]
  },
  {
   "cell_type": "code",
   "execution_count": 4,
   "metadata": {},
   "outputs": [],
   "source": [
    "def compounding(m, r, A=1, T=1):\n",
    "    \"\"\"\n",
    "        A=1: face value assumed to be 1\n",
    "        T=1: matures in one year\n",
    "    \"\"\"\n",
    "    return A * ((1 + r / m)**(m*T))"
   ]
  },
  {
   "cell_type": "code",
   "execution_count": 5,
   "metadata": {},
   "outputs": [
    {
     "name": "stdout",
     "output_type": "stream",
     "text": [
      "1.04\n",
      "1.0404\n",
      "1.04060401\n",
      "1.0407415429197906\n",
      "1.0408084931324164\n",
      "1.0408095847402785\n"
     ]
    }
   ],
   "source": [
    "for m in [1, 2, 4, 12, 365, 700]:\n",
    "    print(compounding(m, r=0.04))"
   ]
  },
  {
   "cell_type": "markdown",
   "metadata": {},
   "source": [
    "# Bond pricing formula"
   ]
  },
  {
   "cell_type": "markdown",
   "metadata": {},
   "source": [
    "$$\n",
    "\\begin{aligned}\n",
    "P(C, y, N, m)=P &=\\sum_{i=1}^{N} \\frac{C / m}{(1+y / m)^{i}}+\\frac{1}{(1+y / m)^{N}} \\\\\n",
    "&=\\frac{C}{y}\\left(1-\\frac{1}{(1+y / m)^{N}}\\right)+\\frac{1}{(1+y / m)^{N}}\n",
    "\\end{aligned}\n",
    "$$"
   ]
  },
  {
   "cell_type": "markdown",
   "metadata": {},
   "source": [
    "- C: annualized coupon rate\n",
    "- y: discounting rate\n",
    "- N:=T * m: total number of payments\n",
    "- m: how many times a coupon is paid in a year"
   ]
  },
  {
   "cell_type": "code",
   "execution_count": 6,
   "metadata": {},
   "outputs": [],
   "source": [
    "def P(C, y, N, m):\n",
    "    A = sum([(C/m)/(1+y/m)**i for i in range(1, N+1)])\n",
    "    B = 1/(1+y/m)**N\n",
    "    return A + B"
   ]
  },
  {
   "cell_type": "code",
   "execution_count": 7,
   "metadata": {},
   "outputs": [],
   "source": [
    "C = 0.03\n",
    "y = 0.02\n",
    "T = 2\n",
    "m = 2\n",
    "N = T * m"
   ]
  },
  {
   "cell_type": "code",
   "execution_count": 8,
   "metadata": {},
   "outputs": [
    {
     "data": {
      "text/plain": [
       "1.019509827758592"
      ]
     },
     "execution_count": 8,
     "metadata": {},
     "output_type": "execute_result"
    }
   ],
   "source": [
    "P(C, y, N, m)"
   ]
  },
  {
   "cell_type": "code",
   "execution_count": 9,
   "metadata": {},
   "outputs": [],
   "source": [
    "def P_closed_form(C, y, N, m):\n",
    "    A = (C/y)*(1-(1/(1+y/m)**N))\n",
    "    B = 1/(1+y/m)**N\n",
    "    return A + B"
   ]
  },
  {
   "cell_type": "code",
   "execution_count": 10,
   "metadata": {},
   "outputs": [
    {
     "data": {
      "text/plain": [
       "1.019509827758592"
      ]
     },
     "execution_count": 10,
     "metadata": {},
     "output_type": "execute_result"
    }
   ],
   "source": [
    "P_closed_form(C, y, N, m)"
   ]
  },
  {
   "cell_type": "code",
   "execution_count": 11,
   "metadata": {},
   "outputs": [
    {
     "data": {
      "text/plain": [
       "True"
      ]
     },
     "execution_count": 11,
     "metadata": {},
     "output_type": "execute_result"
    }
   ],
   "source": [
    "# to compare numbers/float, use a tolerance bound, in case of precision loss\n",
    "(P(C, y, N, m) - P_closed_form(C, y, N, m)) < 1e-10"
   ]
  },
  {
   "cell_type": "markdown",
   "metadata": {},
   "source": [
    "### Bond price w.r.t to yield"
   ]
  },
  {
   "cell_type": "code",
   "execution_count": 12,
   "metadata": {},
   "outputs": [],
   "source": [
    "# initialize pricing parameters\n",
    "C = 0.03\n",
    "y = 0.02\n",
    "m = 2"
   ]
  },
  {
   "cell_type": "code",
   "execution_count": 13,
   "metadata": {},
   "outputs": [
    {
     "data": {
      "image/png": "[encoded data removed]",
      "text/plain": [
       "<Figure size 864x432 with 1 Axes>"
      ]
     },
     "metadata": {
      "needs_background": "light"
     },
     "output_type": "display_data"
    }
   ],
   "source": [
    "fig, ax = plt.subplots()\n",
    "fig.set_size_inches(12,6)\n",
    "\n",
    "linestyles = ['-', '--', '-.']\n",
    "colors = ['purple', 'orange', 'blue']\n",
    "\n",
    "for i, T in enumerate([2, 5, 10]):\n",
    "    N = T * m\n",
    "    # compute price of bond w.r.t different yield\n",
    "    yields = np.linspace(0.01, 0.04, 10)\n",
    "    prices = [P_closed_form(C, y, N, m) for y in yields]\n",
    "    # add scatter plot to plot\n",
    "    ax.plot(yields, prices, color=colors[i], linestyle=linestyles[i], label=f'Mat={T}')\n",
    "\n",
    "ax.set_xlabel('yield')\n",
    "ax.set_ylabel('price')\n",
    "\n",
    "fig.legend(loc='upper right')\n",
    "ax.set_title('yield vs. price')\n",
    "plt.show()"
   ]
  },
  {
   "cell_type": "markdown",
   "metadata": {},
   "source": [
    "### Solve for yield: root search"
   ]
  },
  {
   "cell_type": "markdown",
   "metadata": {},
   "source": [
    "#### [Newton's method](https://docs.scipy.org/doc/scipy/reference/generated/scipy.optimize.newton.html)"
   ]
  },
  {
   "cell_type": "code",
   "execution_count": 45,
   "metadata": {},
   "outputs": [],
   "source": [
    "from scipy.optimize import newton"
   ]
  },
  {
   "cell_type": "code",
   "execution_count": 15,
   "metadata": {},
   "outputs": [],
   "source": [
    "# initialize pricing parameters except y\n",
    "C = 0.03\n",
    "T = 2\n",
    "m = 2\n",
    "N = T * m\n",
    "\n",
    "def f(y, C=C, N=N, m=m):\n",
    "    # 'root' finding\n",
    "    return P(C, y, N, m)-1\n"
   ]
  },
  {
   "cell_type": "code",
   "execution_count": 16,
   "metadata": {},
   "outputs": [
    {
     "data": {
      "text/plain": [
       "0.030000000000000138"
      ]
     },
     "execution_count": 16,
     "metadata": {},
     "output_type": "execute_result"
    }
   ],
   "source": [
    "newton(f, 0.9)"
   ]
  },
  {
   "cell_type": "markdown",
   "metadata": {},
   "source": [
    "### Bond Math Problems"
   ]
  },
  {
   "cell_type": "markdown",
   "metadata": {},
   "source": [
    "The $\\$ 1,000$ face value $A B C$ bond has a coupon rate of $6 \\%,$ with interest paid semi-annually, and matures in 5 years. If the bond is priced to yield $8 \\%,$ what is the bond's value today?\n",
    "- $\\mathrm{FV}=\\$ 1,000$\n",
    "- $CF=\\$ 60 / 2=\\$ 30$\n",
    "- $N=5 \\times 2=10$\n",
    "- $i=8 \\% / 2=4 \\%$"
   ]
  },
  {
   "cell_type": "code",
   "execution_count": 36,
   "metadata": {},
   "outputs": [],
   "source": [
    "C = 0.06\n",
    "y = 0.08\n",
    "T = 5\n",
    "m = 2\n",
    "N = T * m"
   ]
  },
  {
   "cell_type": "code",
   "execution_count": 37,
   "metadata": {},
   "outputs": [
    {
     "data": {
      "text/plain": [
       "918.8910422064497"
      ]
     },
     "execution_count": 37,
     "metadata": {},
     "output_type": "execute_result"
    }
   ],
   "source": [
    "1000 * P_closed_form(C, y, N, m)"
   ]
  },
  {
   "cell_type": "markdown",
   "metadata": {},
   "source": [
    "The $\\$ 1,000$ face value EFG bond has a coupon of $10 \\%$ (paid semi-annually), matures in 4 years, and has current price of $\\$ 1,140 .$ What is the EFG bond's yield to maturity?\n",
    "- $\\mathrm{FV}=\\$ 1,000$\n",
    "- $\\mathrm{CF}=\\$ 100 / 2=\\$ 50$\n",
    "- $N=4 \\times 2=8$\n",
    "- $P V=\\$ 1,140$\n",
    "- $i=3 \\%$"
   ]
  },
  {
   "cell_type": "code",
   "execution_count": 38,
   "metadata": {},
   "outputs": [],
   "source": [
    "C = 0.1\n",
    "# y = 0.08\n",
    "T = 4\n",
    "m = 2\n",
    "N = T * m\n",
    "pv = 1140/1000\n",
    "\n",
    "def f(y, C=C, N=N, m=m, pv=pv):\n",
    "    # 'root' finding\n",
    "    return P(C, y, N, m)-pv"
   ]
  },
  {
   "cell_type": "code",
   "execution_count": 55,
   "metadata": {},
   "outputs": [
    {
     "data": {
      "text/plain": [
       "0.0601035028097677"
      ]
     },
     "execution_count": 55,
     "metadata": {},
     "output_type": "execute_result"
    }
   ],
   "source": [
    "newton(f, 0.3)"
   ]
  },
  {
   "cell_type": "markdown",
   "metadata": {},
   "source": [
    "## More on root-searching algorithms"
   ]
  },
  {
   "cell_type": "markdown",
   "metadata": {},
   "source": [
    "### Newton's Method\n",
    "- Convergence not guaranteed, if starting points far from root\n",
    "- f'(x) must exists at root, and not equal to 0\n",
    "- When it does converge, the convergence rate is quadratic"
   ]
  },
  {
   "cell_type": "markdown",
   "metadata": {},
   "source": [
    "#### Taylor series expansion truncated at second term"
   ]
  },
  {
   "cell_type": "markdown",
   "metadata": {},
   "source": [
    "$$\n",
    "f(x)=f(a)+\\frac{f^{\\prime}(a)}{1 !}(x-a)+\\frac{f^{\\prime \\prime}(a)}{2 !}(x-a)^{2}+\\frac{f^{\\prime \\prime \\prime}(a)}{3 !}(x-a)^{3}+\\cdots\n",
    "$$"
   ]
  },
  {
   "cell_type": "markdown",
   "metadata": {},
   "source": [
    "i.e. \n",
    "$$\n",
    "f(x)=f(a)+f^{\\prime}(a)(x-a)+R_1\n",
    "$$\n",
    "where\n",
    "$$\n",
    "R_{1}=\\frac{1}{2 !} f^{\\prime \\prime}\\left(\\xi_{n}\\right)\\left(\\alpha-x_{n}\\right)^{2}\n",
    "$$\n",
    "$\\xi_{n}$ is in between $x_{n}$ and $\\alpha$"
   ]
  },
  {
   "cell_type": "markdown",
   "metadata": {},
   "source": [
    "#### Let f(x)=0, and re-arrange the term:\n",
    "$$\n",
    "x_{n+1}=x_n-\\frac{f(x_n)}{f'(x_n)}\n",
    "$$"
   ]
  },
  {
   "cell_type": "markdown",
   "metadata": {},
   "source": [
    "### Practice:\n",
    "Solve $x^2=37$ to the third digit"
   ]
  },
  {
   "cell_type": "markdown",
   "metadata": {},
   "source": [
    "### Bisection Method\n",
    "- f'(x) need not exist\n",
    "- converges linearly\n",
    "#### Algorithms:\n",
    "\n",
    "1. starts with 2 bracketing levels $\\left[x_{1}, x_{2}\\right]$ where $f\\left(x_{1}\\right) \\times f\\left(x_{2}\\right)<0$\n",
    "2. At each step, one calculates $f\\left(x_{\\text {Mid }}\\right):=\\left(x_{1}+x_{2}\\right) / 2$ and updates $x_{1}$ or $x_{2}$ as follows until $f\\left(x_{\\text {Mid }}\\right)$ close to 0:\n",
    "    - If $f\\left(x_{\\text {Mid }}\\right)$ and $f\\left(x_{1}\\right)$ have the same sign, replace $x_{1}$ by $x_{\\text {Mid. }}$\n",
    "    - If $f\\left(x_{M i d}\\right)$ and $f\\left(x_{2}\\right)$ have the same sign, replace $x_{2}$ by $x_{\\text {Mid }}$\n",
    "    \n",
    "<img src=\"bisection.png\" alt=\"drawing\" width=\"200\"/>"
   ]
  },
  {
   "cell_type": "markdown",
   "metadata": {},
   "source": [
    "# Duration (PV01, PVBP)"
   ]
  },
  {
   "cell_type": "markdown",
   "metadata": {},
   "source": [
    "**PV01**\n",
    "$$\n",
    "P V 01=\\frac{d P}{d y} \\times 0.0001\n",
    "$$\n",
    "\n",
    "$$\n",
    "\\frac{d P}{d y}=\\frac{C}{y^{2}}\\left(\\frac{1}{(1+y / m)^{N}}-1\\right)+\\frac{N}{m} \\frac{C / y-1}{(1+y / m)^{N+1}}\n",
    "$$"
   ]
  },
  {
   "cell_type": "markdown",
   "metadata": {},
   "source": [
    "The relative or percentage change in price is known as the Modified Duration\n",
    "$$\n",
    "\\text { Modified Duration }=\\frac{1}{P} \\frac{d P}{d y}\n",
    "$$\n",
    "and has unit of years."
   ]
  },
  {
   "cell_type": "markdown",
   "metadata": {},
   "source": [
    "**Present Value of 1 bp.** This is the change in price due to changing the coupon rate by 1 bp:\n",
    "$$\n",
    "P V B P=\\frac{d P}{d C} \\times 0.0001\n",
    "$$\n",
    "where\n",
    "$$\n",
    "\\frac{d P}{d C}=\\frac{1}{y}\\left(1-\\frac{1}{(1+y / m)^{N}}\\right)\n",
    "$$\n",
    "and that\n",
    "$$\n",
    "P V B P=P_{A}(C=0.0001, y, N, m)=\\frac{0.0001}{y}\\left(1-\\frac{1}{(1+y / m)^{N}}\\right)\n",
    "$$"
   ]
  },
  {
   "cell_type": "markdown",
   "metadata": {},
   "source": [
    "**Extra**:\n",
    "The Macaulay duration is defined as: $\\quad \\operatorname{MacD}=\\frac{\\sum_{i=1}^{n} t_{i} P V_{i}}{\\sum_{i=1}^{n} P V_{i}}=\\frac{\\sum_{i=1}^{n} t_{i} P V_{i}}{V}=\\sum_{i=1}^{n} t_{i} \\frac{P V_{i}}{V}$"
   ]
  },
  {
   "cell_type": "markdown",
   "metadata": {},
   "source": [
    "# Convexity"
   ]
  },
  {
   "cell_type": "markdown",
   "metadata": {},
   "source": [
    "$$\n",
    "\\begin{aligned} \\text { Convexity } &=\\frac{d^{2} P}{d y^{2}}=\\frac{N(N+1)}{m^{2}} \\frac{1-C / y}{(1+y / m)^{N+2}} -\\frac{2 C N /\\left(m y^{2}\\right)}{(1+y / m)^{N+1}}+\\frac{2 C}{y^{3}}\\left(1-\\frac{1}{(1+y / m)^{N}}\\right) \\end{aligned}\n",
    "$$"
   ]
  },
  {
   "cell_type": "markdown",
   "metadata": {},
   "source": [
    "# Duration and Convexity as Coefficients in Taylor Expansion"
   ]
  },
  {
   "cell_type": "code",
   "execution_count": 35,
   "metadata": {},
   "outputs": [
    {
     "data": {
      "image/png": "[encoded data removed]",
      "text/plain": [
       "<Figure size 864x432 with 1 Axes>"
      ]
     },
     "metadata": {
      "needs_background": "light"
     },
     "output_type": "display_data"
    }
   ],
   "source": [
    "C = 0.03\n",
    "m = 2\n",
    "T = 30\n",
    "N = T * m\n",
    "    \n",
    "fig, ax = plt.subplots()\n",
    "fig.set_size_inches(12,6)\n",
    "\n",
    "# compute price of bond w.r.t different yield\n",
    "yields = np.linspace(1e-10, 0.14, 100)\n",
    "prices = [P_closed_form(C, y, N, m) for y in yields]\n",
    "\n",
    "# add scatter plot to plot\n",
    "ax.plot(yields, prices, color='purple', linestyle='-')\n",
    "\n",
    "\n",
    "ax.set_xlabel('yield')\n",
    "ax.set_ylabel('price')\n",
    "\n",
    "# fig.legend(loc='upper right')\n",
    "ax.set_title('yield vs. price')\n",
    "plt.grid()\n",
    "plt.show()"
   ]
  },
  {
   "cell_type": "markdown",
   "metadata": {},
   "source": [
    "For a function of one variable, $f(x)$, the Taylor Series Formula is:\n",
    "$$\n",
    "f(x+\\Delta x)=f(x)+f^{\\prime}(x) \\Delta x+1 / 2 f^{\\prime \\prime}(x)(\\Delta x)^{2}+\\ldots+\\frac{f^{(n)}(x)}{n !}(\\Delta x)^{n}+\\ldots\n",
    "$$\n",
    "First 2 terms of Taylor expansion plus remaining higher-order terms:\n",
    "$$\n",
    "f(x+\\Delta x)-f(x)=f^{\\prime}(x) \\Delta x+1 / 2 f^{\\prime \\prime}(x)(\\Delta x)^{2}+\\text { Higher Order Terms. }\n",
    "$$\n",
    "\n",
    "Considering the price-yield formula for bonds, let $h$ be the number of bp's change in yields. We have\n",
    "$$\n",
    "\\text{Price Change}\\approx \\mathrm{PV} 01 \\times h+1 / 2 \\times\\text{Convexity}\\times(h \\times 0.0001)^{2} .\n",
    "$$"
   ]
  },
  {
   "cell_type": "code",
   "execution_count": null,
   "metadata": {},
   "outputs": [],
   "source": []
  }
 ],
 "metadata": {
  "kernelspec": {
   "display_name": "Python 3.7.6 64-bit ('base': conda)",
   "language": "python",
   "name": "python37664bitbaseconda19daccaab569477d9dec399eeb89c3e8"
  },
  "language_info": {
   "codemirror_mode": {
    "name": "ipython",
    "version": 3
   },
   "file_extension": ".py",
   "mimetype": "text/x-python",
   "name": "python",
   "nbconvert_exporter": "python",
   "pygments_lexer": "ipython3",
   "version": "3.7.6"
  }
 },
 "nbformat": 4,
 "nbformat_minor": 4
}
